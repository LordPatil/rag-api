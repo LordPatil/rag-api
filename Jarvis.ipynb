{
 "cells": [
  {
   "cell_type": "code",
   "execution_count": 5,
   "metadata": {},
   "outputs": [],
   "source": [
    "import openai"
   ]
  },
  {
   "cell_type": "code",
   "execution_count": 6,
   "metadata": {},
   "outputs": [],
   "source": [
    "import os\n",
    "import sys"
   ]
  },
  {
   "cell_type": "code",
   "execution_count": 7,
   "metadata": {},
   "outputs": [],
   "source": [
    "from langchain.document_loaders import PyPDFLoader"
   ]
  },
  {
   "cell_type": "code",
   "execution_count": 8,
   "metadata": {},
   "outputs": [],
   "source": [
    "loader = PyPDFLoader(\"docs/SOP-CUHK.pdf\")\n",
    "pages = loader.load()"
   ]
  },
  {
   "cell_type": "code",
   "execution_count": 9,
   "metadata": {},
   "outputs": [
    {
     "data": {
      "text/plain": [
       "2"
      ]
     },
     "execution_count": 9,
     "metadata": {},
     "output_type": "execute_result"
    }
   ],
   "source": [
    "len(pages)"
   ]
  },
  {
   "cell_type": "code",
   "execution_count": 10,
   "metadata": {},
   "outputs": [
    {
     "name": "stdout",
     "output_type": "stream",
     "text": [
      "Statement  of  Purpose  \n",
      " During  my  undergraduate  summer  vacations,  I  had  completed  a  deep  learning  course  and  was  \n",
      "busy\n",
      " \n",
      "experimenting\n",
      " \n",
      "with\n",
      " \n",
      "some\n",
      " \n",
      "algorithms\n",
      " \n",
      "when\n",
      " \n",
      "I\n",
      " \n",
      "heard\n",
      " \n",
      "m\n"
     ]
    }
   ],
   "source": [
    "page = pages[0]\n",
    "print(page.page_content[0:200])"
   ]
  },
  {
   "cell_type": "code",
   "execution_count": 11,
   "metadata": {},
   "outputs": [
    {
     "data": {
      "text/plain": [
       "{'producer': 'Skia/PDF m133 Google Docs Renderer',\n",
       " 'creator': 'PyPDF',\n",
       " 'creationdate': '',\n",
       " 'title': 'SOP-CUHK',\n",
       " 'source': 'docs/SOP-CUHK.pdf',\n",
       " 'total_pages': 2,\n",
       " 'page': 0,\n",
       " 'page_label': '1'}"
      ]
     },
     "execution_count": 11,
     "metadata": {},
     "output_type": "execute_result"
    }
   ],
   "source": [
    "page.metadata"
   ]
  },
  {
   "cell_type": "code",
   "execution_count": 12,
   "metadata": {},
   "outputs": [],
   "source": [
    "from langchain_community.document_loaders.generic import GenericLoader\n",
    "from langchain_community.document_loaders.blob_loaders import FileSystemBlobLoader\n",
    "from langchain_community.document_loaders.parsers.audio import OpenAIWhisperParserLocal\n",
    "from langchain_community.document_loaders.blob_loaders.youtube_audio import YoutubeAudioLoader"
   ]
  },
  {
   "cell_type": "code",
   "execution_count": 13,
   "metadata": {},
   "outputs": [
    {
     "name": "stdout",
     "output_type": "stream",
     "text": [
      "Using the following model:  openai/whisper-base\n"
     ]
    },
    {
     "name": "stderr",
     "output_type": "stream",
     "text": [
      "Device set to use cpu\n"
     ]
    },
    {
     "name": "stdout",
     "output_type": "stream",
     "text": [
      "Transcribing part docs/youtube/Is Success Luck or Hard Work？.m4a!\n"
     ]
    },
    {
     "name": "stderr",
     "output_type": "stream",
     "text": [
      "/opt/homebrew/lib/python3.11/site-packages/transformers/models/whisper/generation_whisper.py:573: FutureWarning: The input name `inputs` is deprecated. Please make sure to use `input_features` instead.\n",
      "  warnings.warn(\n",
      "Due to a bug fix in https://github.com/huggingface/transformers/pull/28687 transcription using a multilingual Whisper will default to language detection followed by transcription instead of translation to English.This might be a breaking change for your use case. If you want to instead always translate your audio to English, make sure to pass `language='en'`.\n",
      "The attention mask is not set and cannot be inferred from input because pad token is same as eos token. As a consequence, you may observe unexpected behavior. Please pass your input's `attention_mask` to obtain reliable results.\n"
     ]
    }
   ],
   "source": [
    "url=\"https://www.youtube.com/watch?v=3LopI4YeC4I\"\n",
    "save_dir=\"docs/youtube/\"\n",
    "loader = GenericLoader(\n",
    "    # YoutubeAudioLoader([url], save_dir),  # Fetch audio from YouTube\n",
    "    FileSystemBlobLoader(save_dir, glob=\"*.m4a\"),\n",
    "    OpenAIWhisperParserLocal(device=\"cpu\")  # Use 'cpu' or 'cuda' based on your setup\n",
    ")\n",
    "docs = loader.load()"
   ]
  },
  {
   "cell_type": "code",
   "execution_count": 14,
   "metadata": {},
   "outputs": [
    {
     "data": {
      "text/plain": [
       "[Document(metadata={'source': 'docs/youtube/Is Success Luck or Hard Work？.m4a'}, page_content=\" During the COVID lockdown, this headline went viral. Nearly half of men say they do most of the homeschooling. 3% of women agree. I bring this up, not to debate who's right, but because it's a great example of something called egocentric bias. Most people think they do most of the work. For example, researchers have asked authors of multi-author papers what percentage of the work they personally did. And when they add up those percentages, the sum is on average 140%. When couples are asked to estimate how much of the housework they do, the combined total is almost always over 100%. Now you might think this is because people want to appear more helpful than they actually are. But that's not it. When couples are asked what fraction of the fights they start or how much of the mess is theirs, the total is again over a hundred. People think they do more of the work, but they also think they cause more of the problems. So why is this? I think it's simply because you experience and remember vividly all of what you do, but not all of what everyone else does. So naturally you overestimate your own contributions and underestimate others. And I think this bias leads us to underestimate the influence of other things on our lives, like the role Luck plays in our success. Take hockey players, for example. If you ask a professional hockey player how they manage to reach the NHL, they might mention their hard work, determination, great coaches, their parents willingness to get up at 5am and so on, but they probably won't acknowledge how lucky they were to be born in January. And yet in many years, 40% of hockey players selected into top tier leagues are born in the first quarter of the year, compared to just 10% in the fourth quarter. An early birthday can make you up to four times as likely to be a pro hockey player. And the reason for this disparity is presumably because the cut-off date for kids hockey leagues is January 1st. Those born in the first part of the year are a little older and so on average bigger and faster than kids in their league born late in the year. Now as they grow up, this difference should eventually shrink to nothing, but it doesn't. Because the young kids who share the most promise are given more time on the ice and enter more tournaments where they receive better coaching and improve their skills. And these advantages compound year after year, so by the time you get to the pros, birthdays are heavily skewed towards the start of the year. But does any professional hockey player feel thankful for their birthday? Probably not. And we are all like that, largely oblivious to the fortunate events that support our success. Probably the most significant bit of luck many of us enjoy is being born into a prosperous country. Around half the variance in income received by people around the world is explained by their country of residence, and that country's income distribution. If you were born in Burundi, for example, which has the world's lowest gross national income per capita of just $730 a year, it doesn't matter how smart or hardworking you are, you're unlikely to earn much as an adult. Now many people get offended if you point out how big a role chance plays in their success. And I get it. If we are just a product of our circumstances, then our hard work and our talent seem to count for nothing. People think it has to be either skill or luck that explains success, but the truth is you need both. Take these eight track and field world records. All the athletes who achieved these records are obviously world class, extremely dedicated and talented, and yet when they achieved their world records, seven out of eight had a tailwind. Now these athletes all had the ability to win a gold medal, but to set the world record required a bit of luck as well. The importance of luck increases the greater the number of applicants applying for just a few spaces. Consider the most recent class of NASA astronauts. From over 18,300 applicants in 2017, only 11 were selected and went on to graduate from the astronaut training program. And we can make a toy model of the selection process. Let's assume that astronauts are selected mostly based on skill, experience, and hard work, but also, say, 5% as a result of luck, fortunate circumstances. For each applicant, I randomly generated a skill score out of 100, and I also randomly generated a luck score out of 100. Then I added those numbers together, weighted in the 95 to 5 ratio to get an overall score. This score represents the selector's judgments, meaning the top 11 by this metric would become astronauts. And I this simulation a thousand times representing a thousand different astronaut selections and what I found was the astronauts who were picked were very lucky they had an average luck score of 94.7 So how many of the selected astronauts would have been in the top 11 based on skill alone? The answer was on average only 1.6. That means even with luck accounting for just 5% of the's not something we did. Like the housework done by your significant other, it goes unappreciated. And here's the crazy thing. Downplaying the importance of chance events may actually improve your probability of success. Because if you perceive an outcome to be uncertain, you're less likely to invest effort in it, which further decreases your chances of success. So it's a useful delusion to believe you are in full control of your destiny. I mean, if I had known how bad I was when I started YouTube or how much work it would take, I might have given up break then. It makes it easier to accept inequality. In one experiment participants were put in groups of three in small rooms to discuss a complex moral problem. And one person in each group was randomly designated the team leader. Half an hour later, the experimenter came by with four cookies for each team. So who got the extra cookie? In each case, it went to the team leader. Even though they had no special aptitude, they didn't have extra responsibilities and they'd gotten their position through chance alone. Once you have achieved a certain status, it seems natural to feel like you deserve it and all the other good things that come your way. Now this is just an anecdote, but whenever I've been upgraded to fly a business class, I've always observed the worst behavior in my fellow privileged passengers. They just act so entitled and uncurdious. And research has found evidence for this as well. In another experiment participants were asked to think of a good thing that happened to them recently. And then one group was asked to list their own personal qualities or actions that made that good thing happen. Another group was asked to list external factors beyond their control that led to the event. And a control group was simply asked to list reasons why the good thing happened. Now for completing this task participants were told they would be paid a dollar. But at the end, they were offered the option to donate some or all of the money to a charity. Results showed those who listed their own personal attributes contributed 25% less than those who listed external factors beyond their control. Now, think of what all this means for people in our society, specifically for people in positions of power like business leaders and politicians. Undoubtedly, most of them are talented and hardworking, but they have also been luckier than most. And like most of us, they don't realize just how lucky they are. And this gives them a distorted view of reality. They're kind of living in a form of survivor bias. All these leaders have worked hard and ultimately succeeded, so to them the world appears fair. In their experience, it rewards hard work. But what they don't have is the experience of all the people who have worked hard and failed. So what are they to make of people less successful than themselves? Well, the natural conclusion is that they must just be less talented or less hard working and this perspective makes them less inclined to be generous to give back and they are the ones who set the rules for how society operates and This is particularly unfortunate since one of the main ways many of us are lucky is in our country of residence But what is a country except for the things put there by people who came before, the roads and the schools, public transport, emergency services, clean air and water, everything like that. It seems a cruel trick of our psychology that successful people without any malice will credit their success largely to their own hard work and ingenuity and therefore contribute less to maintaining the very circumstances that made that success possible in the first place. The good news is that acknowledging our fortunate circumstances not only brings us more in line with reality, it also makes us more likable. In a study where people had to read the transcript of a fictional 60 minutes interview with a biotech entrepreneur, experimenters tried changing just the last paragraph where the interviewee is talking about the reasons for their company's success. In one version, the entrepreneur personally takes credit for the success they've had. But in the other, he says luck played a significant role. Now people who read the luck version of the transcript judge the entrepreneur as kinder and thought they'd be more likely to be close friends with him than those who read the other version of the transcript. And raising our awareness of fortunate events can also make us happier because it allows us to feel gratitude. Personally, I am grateful to Michael Stevens of Vsauce who on October 7th, 2012 posted the video, How Much Does a Shatter Way, which shouts out my slow motion Slinky Drop video. And within three days, my subscribers had increased by a third. And within a month, they had doubled, leading me to quit my part-time job and work exclusively on YouTube videos. And I'm grateful to the writer of the free newspaper they give out on the trains in Sydney, who didn't quite understand electricity, leading me to post this picture of their article to my Instagram with a caption, what's wrong with this picture? And I'm lucky that the first person to answer correctly was a beautiful woman who became my future wife. Yep, that the best advice is paradoxical. First, you must believe that you are in complete control of your destiny and that your success comes down only to your own talent and hard work. But second, you've got to know that's not true for you or anyone else. So you have to remember if you do achieve success that luck played a significant role and given your good fortune, you should do what you can to increase the luck of others. Hey, so I had an idea for what I could do to increase the luck of others. And that is to give away 100 Snatham's kits to people who couldn't otherwise afford them. So if you didn't know, Snatham's is a product that I invented and kickstarted five years ago. It's a molecular modeling kit where all the atoms snap together magnetically. Now I made it because I really wanted to tackle the misconception that bonds store energy. They don't. It takes energy to break them and you can feel that with Snathems. Recently I completely retooled Snathems so there are small holes where the magnets are. This allows them to touch directly, increasing the bonding strength so you can form bigger, more stable molecules. I call these Snathems X and yes they are backwards compatible with original Snathems. So here's my idea. For the next month you can buy Snathems for 10% off using the code Give Luck. And for each one sold I will give a kit to someone who can't afford one up to a limit of 100. So I'll put links and more details in the description and I really want to thank you for watching and thank you for all my good luck.\")]"
      ]
     },
     "execution_count": 14,
     "metadata": {},
     "output_type": "execute_result"
    }
   ],
   "source": [
    "docs"
   ]
  },
  {
   "cell_type": "code",
   "execution_count": 15,
   "metadata": {},
   "outputs": [
    {
     "data": {
      "text/plain": [
       "1"
      ]
     },
     "execution_count": 15,
     "metadata": {},
     "output_type": "execute_result"
    }
   ],
   "source": [
    "len(docs)"
   ]
  },
  {
   "cell_type": "code",
   "execution_count": 16,
   "metadata": {},
   "outputs": [
    {
     "data": {
      "text/plain": [
       "\" During the COVID lockdown, this headline went viral. Nearly half of men say they do most of the homeschooling. 3% of women agree. I bring this up, not to debate who's right, but because it's a great example of something called egocentric bias. Most people think they do most of the work. For example, researchers have asked authors of multi-author papers what percentage of the work they personally did. And when they add up those percentages, the sum is on average 140%. When couples are asked to e\""
      ]
     },
     "execution_count": 16,
     "metadata": {},
     "output_type": "execute_result"
    }
   ],
   "source": [
    "docs[0].page_content[0:500]"
   ]
  },
  {
   "cell_type": "code",
   "execution_count": 17,
   "metadata": {},
   "outputs": [],
   "source": [
    "from langchain.text_splitter import RecursiveCharacterTextSplitter"
   ]
  },
  {
   "cell_type": "code",
   "execution_count": 18,
   "metadata": {},
   "outputs": [],
   "source": [
    "chunk_size =450\n",
    "chunk_overlap = 0"
   ]
  },
  {
   "cell_type": "code",
   "execution_count": 19,
   "metadata": {},
   "outputs": [
    {
     "ename": "SyntaxError",
     "evalue": "invalid non-printable character U+00A0 (2211860444.py, line 4)",
     "output_type": "error",
     "traceback": [
      "  \u001b[36mCell\u001b[39m\u001b[36m \u001b[39m\u001b[32mIn[19]\u001b[39m\u001b[32m, line 4\u001b[39m\n\u001b[31m    \u001b[39m\u001b[31mseparators=[\"\\n\\n\", \"\\n\", \"(?<=\\. )\", \" \", \"\"]\u001b[39m\n                                                  ^\n\u001b[31mSyntaxError\u001b[39m\u001b[31m:\u001b[39m invalid non-printable character U+00A0\n"
     ]
    }
   ],
   "source": [
    "# r_splitter = RecursiveCharacterTextSplitter(\n",
    "#     chunk_size=chunk_size,\n",
    "#     chunk_overlap=chunk_overlap,\n",
    "#     separators=[\"\\n\\n\", \"\\n\", \"(?<=\\. )\", \" \", \"\"]  \n",
    "# )"
   ]
  },
  {
   "cell_type": "code",
   "execution_count": 27,
   "metadata": {},
   "outputs": [
    {
     "data": {
      "text/plain": [
       "[\"During the COVID lockdown, this headline went viral. Nearly half of men say they do most of the homeschooling. 3% of women agree. I bring this up, not to debate who's right, but because it's a great example of something called egocentric bias. Most people think they do most of the work. For example, researchers have asked authors of multi-author papers what percentage of the work they personally did. And when they add up those percentages, the\",\n",
       " 'sum is on average 140%. When couples are asked to e']"
      ]
     },
     "execution_count": 27,
     "metadata": {},
     "output_type": "execute_result"
    }
   ],
   "source": [
    "# r_splitter.split_text(docs[0].page_content[0:500])"
   ]
  },
  {
   "cell_type": "code",
   "execution_count": 20,
   "metadata": {},
   "outputs": [],
   "source": [
    "from langchain.vectorstores import Chroma\n",
    "from langchain_community.embeddings import JinaEmbeddings"
   ]
  },
  {
   "cell_type": "code",
   "execution_count": 21,
   "metadata": {},
   "outputs": [],
   "source": [
    "from transformers import AutoTokenizer, AutoModel\n",
    "import torch\n",
    "import torch.nn.functional as F\n",
    "\n",
    "class JinaEmbeddings:\n",
    "    def __init__(self, model_name=\"jinaai/jina-embeddings-v2-base-en\"):\n",
    "        self.tokenizer = AutoTokenizer.from_pretrained(model_name, trust_remote_code=True)\n",
    "        self.model = AutoModel.from_pretrained(model_name, trust_remote_code=True)\n",
    "\n",
    "    def embed_documents(self, texts):\n",
    "        inputs = self.tokenizer(texts, padding=True, truncation=True, return_tensors=\"pt\")\n",
    "        with torch.no_grad():\n",
    "            outputs = self.model(**inputs)\n",
    "            embeddings = F.normalize(outputs.last_hidden_state.mean(dim=1), p=2, dim=1)\n",
    "        return embeddings.cpu().numpy().tolist()\n",
    "\n",
    "    def embed_query(self, text):\n",
    "        inputs = self.tokenizer(text, return_tensors=\"pt\", truncation=True, padding=True)\n",
    "        with torch.no_grad():\n",
    "            outputs = self.model(**inputs)\n",
    "            embedding = F.normalize(outputs.last_hidden_state.mean(dim=1), p=2, dim=1)\n",
    "        return embedding.cpu().numpy()[0].tolist()"
   ]
  },
  {
   "cell_type": "code",
   "execution_count": 22,
   "metadata": {},
   "outputs": [
    {
     "name": "stderr",
     "output_type": "stream",
     "text": [
      "/var/folders/bp/s_kwl8x13sb449hbbjskcnwc0000gn/T/ipykernel_7321/3486253483.py:6: LangChainDeprecationWarning: The class `Chroma` was deprecated in LangChain 0.2.9 and will be removed in 1.0. An updated version of the class exists in the :class:`~langchain-chroma package and should be used instead. To use it run `pip install -U :class:`~langchain-chroma` and import as `from :class:`~langchain_chroma import Chroma``.\n",
      "  vectordb = Chroma(persist_directory=persist_directory, embedding_function=embedding)\n"
     ]
    }
   ],
   "source": [
    "from langchain.vectorstores import Chroma\n",
    "\n",
    "persist_directory = 'docs/chroma/'\n",
    "\n",
    "embedding = JinaEmbeddings()\n",
    "vectordb = Chroma(persist_directory=persist_directory, embedding_function=embedding)"
   ]
  },
  {
   "cell_type": "code",
   "execution_count": 23,
   "metadata": {},
   "outputs": [
    {
     "data": {
      "text/plain": [
       "[Document(metadata={'source': 'docs/youtube/Is Success Luck or Hard Work？.m4a'}, page_content=\" During the COVID lockdown, this headline went viral. Nearly half of men say they do most of the homeschooling. 3% of women agree. I bring this up, not to debate who's right, but because it's a great example of something called egocentric bias. Most people think they do most of the work. For example, researchers have asked authors of multi-author papers what percentage of the work they personally did. And when they add up those percentages, the sum is on average 140%. When couples are asked to estimate how much of the housework they do, the combined total is almost always over 100%. Now you might think this is because people want to appear more helpful than they actually are. But that's not it. When couples are asked what fraction of the fights they start or how much of the mess is theirs, the total is again over a hundred. People think they do more of the work, but they also think they cause more of the problems. So why is this? I think it's simply because you experience and remember vividly all of what you do, but not all of what everyone else does. So naturally you overestimate your own contributions and underestimate others. And I think this bias leads us to underestimate the influence of other things on our lives, like the role Luck plays in our success. Take hockey players, for example. If you ask a professional hockey player how they manage to reach the NHL, they might mention their hard work, determination, great coaches, their parents willingness to get up at 5am and so on, but they probably won't acknowledge how lucky they were to be born in January. And yet in many years, 40% of hockey players selected into top tier leagues are born in the first quarter of the year, compared to just 10% in the fourth quarter. An early birthday can make you up to four times as likely to be a pro hockey player. And the reason for this disparity is presumably because the cut-off date for kids hockey leagues is January 1st. Those born in the first part of the year are a little older and so on average bigger and faster than kids in their league born late in the year. Now as they grow up, this difference should eventually shrink to nothing, but it doesn't. Because the young kids who share the most promise are given more time on the ice and enter more tournaments where they receive better coaching and improve their skills. And these advantages compound year after year, so by the time you get to the pros, birthdays are heavily skewed towards the start of the year. But does any professional hockey player feel thankful for their birthday? Probably not. And we are all like that, largely oblivious to the fortunate events that support our success. Probably the most significant bit of luck many of us enjoy is being born into a prosperous country. Around half the variance in income received by people around the world is explained by their country of residence, and that country's income distribution. If you were born in Burundi, for example, which has the world's lowest gross national income per capita of just $730 a year, it doesn't matter how smart or hardworking you are, you're unlikely to earn much as an adult. Now many people get offended if you point out how big a role chance plays in their success. And I get it. If we are just a product of our circumstances, then our hard work and our talent seem to count for nothing. People think it has to be either skill or luck that explains success, but the truth is you need both. Take these eight track and field world records. All the athletes who achieved these records are obviously world class, extremely dedicated and talented, and yet when they achieved their world records, seven out of eight had a tailwind. Now these athletes all had the ability to win a gold medal, but to set the world record required a bit of luck as well. The importance of luck increases the greater the number of applicants applying for just a few spaces. Consider the most recent class of NASA astronauts. From over 18,300 applicants in 2017, only 11 were selected and went on to graduate from the astronaut training program. And we can make a toy model of the selection process. Let's assume that astronauts are selected mostly based on skill, experience, and hard work, but also, say, 5% as a result of luck, fortunate circumstances. For each applicant, I randomly generated a skill score out of 100, and I also randomly generated a luck score out of 100. Then I added those numbers together, weighted in the 95 to 5 ratio to get an overall score. This score represents the selector's judgments, meaning the top 11 by this metric would become astronauts. And I this simulation a thousand times representing a thousand different astronaut selections and what I found was the astronauts who were picked were very lucky they had an average luck score of 94.7 So how many of the selected astronauts would have been in the top 11 based on skill alone? The answer was on average only 1.6. That means even with luck accounting for just 5% of the's not something we did. Like the housework done by your significant other, it goes unappreciated. And here's the crazy thing. Downplaying the importance of chance events may actually improve your probability of success. Because if you perceive an outcome to be uncertain, you're less likely to invest effort in it, which further decreases your chances of success. So it's a useful delusion to believe you are in full control of your destiny. I mean, if I had known how bad I was when I started YouTube or how much work it would take, I might have given up break then. It makes it easier to accept inequality. In one experiment participants were put in groups of three in small rooms to discuss a complex moral problem. And one person in each group was randomly designated the team leader. Half an hour later, the experimenter came by with four cookies for each team. So who got the extra cookie? In each case, it went to the team leader. Even though they had no special aptitude, they didn't have extra responsibilities and they'd gotten their position through chance alone. Once you have achieved a certain status, it seems natural to feel like you deserve it and all the other good things that come your way. Now this is just an anecdote, but whenever I've been upgraded to fly a business class, I've always observed the worst behavior in my fellow privileged passengers. They just act so entitled and uncurdious. And research has found evidence for this as well. In another experiment participants were asked to think of a good thing that happened to them recently. And then one group was asked to list their own personal qualities or actions that made that good thing happen. Another group was asked to list external factors beyond their control that led to the event. And a control group was simply asked to list reasons why the good thing happened. Now for completing this task participants were told they would be paid a dollar. But at the end, they were offered the option to donate some or all of the money to a charity. Results showed those who listed their own personal attributes contributed 25% less than those who listed external factors beyond their control. Now, think of what all this means for people in our society, specifically for people in positions of power like business leaders and politicians. Undoubtedly, most of them are talented and hardworking, but they have also been luckier than most. And like most of us, they don't realize just how lucky they are. And this gives them a distorted view of reality. They're kind of living in a form of survivor bias. All these leaders have worked hard and ultimately succeeded, so to them the world appears fair. In their experience, it rewards hard work. But what they don't have is the experience of all the people who have worked hard and failed. So what are they to make of people less successful than themselves? Well, the natural conclusion is that they must just be less talented or less hard working and this perspective makes them less inclined to be generous to give back and they are the ones who set the rules for how society operates and This is particularly unfortunate since one of the main ways many of us are lucky is in our country of residence But what is a country except for the things put there by people who came before, the roads and the schools, public transport, emergency services, clean air and water, everything like that. It seems a cruel trick of our psychology that successful people without any malice will credit their success largely to their own hard work and ingenuity and therefore contribute less to maintaining the very circumstances that made that success possible in the first place. The good news is that acknowledging our fortunate circumstances not only brings us more in line with reality, it also makes us more likable. In a study where people had to read the transcript of a fictional 60 minutes interview with a biotech entrepreneur, experimenters tried changing just the last paragraph where the interviewee is talking about the reasons for their company's success. In one version, the entrepreneur personally takes credit for the success they've had. But in the other, he says luck played a significant role. Now people who read the luck version of the transcript judge the entrepreneur as kinder and thought they'd be more likely to be close friends with him than those who read the other version of the transcript. And raising our awareness of fortunate events can also make us happier because it allows us to feel gratitude. Personally, I am grateful to Michael Stevens of Vsauce who on October 7th, 2012 posted the video, How Much Does a Shatter Way, which shouts out my slow motion Slinky Drop video. And within three days, my subscribers had increased by a third. And within a month, they had doubled, leading me to quit my part-time job and work exclusively on YouTube videos. And I'm grateful to the writer of the free newspaper they give out on the trains in Sydney, who didn't quite understand electricity, leading me to post this picture of their article to my Instagram with a caption, what's wrong with this picture? And I'm lucky that the first person to answer correctly was a beautiful woman who became my future wife. Yep, that the best advice is paradoxical. First, you must believe that you are in complete control of your destiny and that your success comes down only to your own talent and hard work. But second, you've got to know that's not true for you or anyone else. So you have to remember if you do achieve success that luck played a significant role and given your good fortune, you should do what you can to increase the luck of others. Hey, so I had an idea for what I could do to increase the luck of others. And that is to give away 100 Snatham's kits to people who couldn't otherwise afford them. So if you didn't know, Snatham's is a product that I invented and kickstarted five years ago. It's a molecular modeling kit where all the atoms snap together magnetically. Now I made it because I really wanted to tackle the misconception that bonds store energy. They don't. It takes energy to break them and you can feel that with Snathems. Recently I completely retooled Snathems so there are small holes where the magnets are. This allows them to touch directly, increasing the bonding strength so you can form bigger, more stable molecules. I call these Snathems X and yes they are backwards compatible with original Snathems. So here's my idea. For the next month you can buy Snathems for 10% off using the code Give Luck. And for each one sold I will give a kit to someone who can't afford one up to a limit of 100. So I'll put links and more details in the description and I really want to thank you for watching and thank you for all my good luck.\")]"
      ]
     },
     "execution_count": 23,
     "metadata": {},
     "output_type": "execute_result"
    }
   ],
   "source": [
    "docs"
   ]
  },
  {
   "cell_type": "code",
   "execution_count": 24,
   "metadata": {},
   "outputs": [
    {
     "data": {
      "text/plain": [
       "['356ed5cd-4410-4e0c-ac6d-86eb9415e6c8']"
      ]
     },
     "execution_count": 24,
     "metadata": {},
     "output_type": "execute_result"
    }
   ],
   "source": [
    "vectordb.add_documents(docs)"
   ]
  },
  {
   "cell_type": "code",
   "execution_count": 25,
   "metadata": {},
   "outputs": [
    {
     "name": "stdout",
     "output_type": "stream",
     "text": [
      "3\n"
     ]
    }
   ],
   "source": [
    "print(vectordb._collection.count())"
   ]
  },
  {
   "cell_type": "code",
   "execution_count": 26,
   "metadata": {},
   "outputs": [
    {
     "data": {
      "text/plain": [
       "3"
      ]
     },
     "execution_count": 26,
     "metadata": {},
     "output_type": "execute_result"
    }
   ],
   "source": [
    "question = \"What happened in lockdown?\"\n",
    "t = vectordb.similarity_search(question,k=3)\n",
    "len(t)"
   ]
  },
  {
   "cell_type": "code",
   "execution_count": 27,
   "metadata": {},
   "outputs": [
    {
     "data": {
      "text/plain": [
       "\" During the COVID lockdown, this headline went viral. Nearly half of men say they do most of the homeschooling. 3% of women agree. I bring this up, not to debate who's right, but because it's a great example of something called egocentric bias. Most people think they do most of the work. For example, researchers have asked authors of multi-author papers what percentage of the work they personally did. And when they add up those percentages, the sum is on average 140%. When couples are asked to estimate how much of the housework they do, the combined total is almost always over 100%. Now you might think this is because people want to appear more helpful than they actually are. But that's not it. When couples are asked what fraction of the fights they start or how much of the mess is theirs, the total is again over a hundred. People think they do more of the work, but they also think they cause more of the problems. So why is this? I think it's simply because you experience and remember vividly all of what you do, but not all of what everyone else does. So naturally you overestimate your own contributions and underestimate others. And I think this bias leads us to underestimate the influence of other things on our lives, like the role Luck plays in our success. Take hockey players, for example. If you ask a professional hockey player how they manage to reach the NHL, they might mention their hard work, determination, great coaches, their parents willingness to get up at 5am and so on, but they probably won't acknowledge how lucky they were to be born in January. And yet in many years, 40% of hockey players selected into top tier leagues are born in the first quarter of the year, compared to just 10% in the fourth quarter. An early birthday can make you up to four times as likely to be a pro hockey player. And the reason for this disparity is presumably because the cut-off date for kids hockey leagues is January 1st. Those born in the first part of the year are a little older and so on average bigger and faster than kids in their league born late in the year. Now as they grow up, this difference should eventually shrink to nothing, but it doesn't. Because the young kids who share the most promise are given more time on the ice and enter more tournaments where they receive better coaching and improve their skills. And these advantages compound year after year, so by the time you get to the pros, birthdays are heavily skewed towards the start of the year. But does any professional hockey player feel thankful for their birthday? Probably not. And we are all like that, largely oblivious to the fortunate events that support our success. Probably the most significant bit of luck many of us enjoy is being born into a prosperous country. Around half the variance in income received by people around the world is explained by their country of residence, and that country's income distribution. If you were born in Burundi, for example, which has the world's lowest gross national income per capita of just $730 a year, it doesn't matter how smart or hardworking you are, you're unlikely to earn much as an adult. Now many people get offended if you point out how big a role chance plays in their success. And I get it. If we are just a product of our circumstances, then our hard work and our talent seem to count for nothing. People think it has to be either skill or luck that explains success, but the truth is you need both. Take these eight track and field world records. All the athletes who achieved these records are obviously world class, extremely dedicated and talented, and yet when they achieved their world records, seven out of eight had a tailwind. Now these athletes all had the ability to win a gold medal, but to set the world record required a bit of luck as well. The importance of luck increases the greater the number of applicants applying for just a few spaces. Consider the most recent class of NASA astronauts. From over 18,300 applicants in 2017, only 11 were selected and went on to graduate from the astronaut training program. And we can make a toy model of the selection process. Let's assume that astronauts are selected mostly based on skill, experience, and hard work, but also, say, 5% as a result of luck, fortunate circumstances. For each applicant, I randomly generated a skill score out of 100, and I also randomly generated a luck score out of 100. Then I added those numbers together, weighted in the 95 to 5 ratio to get an overall score. This score represents the selector's judgments, meaning the top 11 by this metric would become astronauts. And I this simulation a thousand times representing a thousand different astronaut selections and what I found was the astronauts who were picked were very lucky they had an average luck score of 94.7 So how many of the selected astronauts would have been in the top 11 based on skill alone? The answer was on average only 1.6. That means even with luck accounting for just 5% of the's not something we did. Like the housework done by your significant other, it goes unappreciated. And here's the crazy thing. Downplaying the importance of chance events may actually improve your probability of success. Because if you perceive an outcome to be uncertain, you're less likely to invest effort in it, which further decreases your chances of success. So it's a useful delusion to believe you are in full control of your destiny. I mean, if I had known how bad I was when I started YouTube or how much work it would take, I might have given up break then. It makes it easier to accept inequality. In one experiment participants were put in groups of three in small rooms to discuss a complex moral problem. And one person in each group was randomly designated the team leader. Half an hour later, the experimenter came by with four cookies for each team. So who got the extra cookie? In each case, it went to the team leader. Even though they had no special aptitude, they didn't have extra responsibilities and they'd gotten their position through chance alone. Once you have achieved a certain status, it seems natural to feel like you deserve it and all the other good things that come your way. Now this is just an anecdote, but whenever I've been upgraded to fly a business class, I've always observed the worst behavior in my fellow privileged passengers. They just act so entitled and uncurdious. And research has found evidence for this as well. In another experiment participants were asked to think of a good thing that happened to them recently. And then one group was asked to list their own personal qualities or actions that made that good thing happen. Another group was asked to list external factors beyond their control that led to the event. And a control group was simply asked to list reasons why the good thing happened. Now for completing this task participants were told they would be paid a dollar. But at the end, they were offered the option to donate some or all of the money to a charity. Results showed those who listed their own personal attributes contributed 25% less than those who listed external factors beyond their control. Now, think of what all this means for people in our society, specifically for people in positions of power like business leaders and politicians. Undoubtedly, most of them are talented and hardworking, but they have also been luckier than most. And like most of us, they don't realize just how lucky they are. And this gives them a distorted view of reality. They're kind of living in a form of survivor bias. All these leaders have worked hard and ultimately succeeded, so to them the world appears fair. In their experience, it rewards hard work. But what they don't have is the experience of all the people who have worked hard and failed. So what are they to make of people less successful than themselves? Well, the natural conclusion is that they must just be less talented or less hard working and this perspective makes them less inclined to be generous to give back and they are the ones who set the rules for how society operates and This is particularly unfortunate since one of the main ways many of us are lucky is in our country of residence But what is a country except for the things put there by people who came before, the roads and the schools, public transport, emergency services, clean air and water, everything like that. It seems a cruel trick of our psychology that successful people without any malice will credit their success largely to their own hard work and ingenuity and therefore contribute less to maintaining the very circumstances that made that success possible in the first place. The good news is that acknowledging our fortunate circumstances not only brings us more in line with reality, it also makes us more likable. In a study where people had to read the transcript of a fictional 60 minutes interview with a biotech entrepreneur, experimenters tried changing just the last paragraph where the interviewee is talking about the reasons for their company's success. In one version, the entrepreneur personally takes credit for the success they've had. But in the other, he says luck played a significant role. Now people who read the luck version of the transcript judge the entrepreneur as kinder and thought they'd be more likely to be close friends with him than those who read the other version of the transcript. And raising our awareness of fortunate events can also make us happier because it allows us to feel gratitude. Personally, I am grateful to Michael Stevens of Vsauce who on October 7th, 2012 posted the video, How Much Does a Shatter Way, which shouts out my slow motion Slinky Drop video. And within three days, my subscribers had increased by a third. And within a month, they had doubled, leading me to quit my part-time job and work exclusively on YouTube videos. And I'm grateful to the writer of the free newspaper they give out on the trains in Sydney, who didn't quite understand electricity, leading me to post this picture of their article to my Instagram with a caption, what's wrong with this picture? And I'm lucky that the first person to answer correctly was a beautiful woman who became my future wife. Yep, that the best advice is paradoxical. First, you must believe that you are in complete control of your destiny and that your success comes down only to your own talent and hard work. But second, you've got to know that's not true for you or anyone else. So you have to remember if you do achieve success that luck played a significant role and given your good fortune, you should do what you can to increase the luck of others. Hey, so I had an idea for what I could do to increase the luck of others. And that is to give away 100 Snatham's kits to people who couldn't otherwise afford them. So if you didn't know, Snatham's is a product that I invented and kickstarted five years ago. It's a molecular modeling kit where all the atoms snap together magnetically. Now I made it because I really wanted to tackle the misconception that bonds store energy. They don't. It takes energy to break them and you can feel that with Snathems. Recently I completely retooled Snathems so there are small holes where the magnets are. This allows them to touch directly, increasing the bonding strength so you can form bigger, more stable molecules. I call these Snathems X and yes they are backwards compatible with original Snathems. So here's my idea. For the next month you can buy Snathems for 10% off using the code Give Luck. And for each one sold I will give a kit to someone who can't afford one up to a limit of 100. So I'll put links and more details in the description and I really want to thank you for watching and thank you for all my good luck.\""
      ]
     },
     "execution_count": 27,
     "metadata": {},
     "output_type": "execute_result"
    }
   ],
   "source": [
    "t[0].page_content"
   ]
  },
  {
   "cell_type": "code",
   "execution_count": 28,
   "metadata": {},
   "outputs": [],
   "source": [
    "from langchain.chains import RetrievalQA"
   ]
  },
  {
   "cell_type": "code",
   "execution_count": 29,
   "metadata": {},
   "outputs": [],
   "source": [
    "api_key = ''"
   ]
  },
  {
   "cell_type": "code",
   "execution_count": 35,
   "metadata": {},
   "outputs": [],
   "source": [
    "from langchain_google_genai import ChatGoogleGenerativeAI\n",
    "\n",
    "llm = ChatGoogleGenerativeAI(model=\"gemini-2.0-flash\", temperature=0.0, google_api_key=api_key)"
   ]
  },
  {
   "cell_type": "code",
   "execution_count": 36,
   "metadata": {},
   "outputs": [],
   "source": [
    "from langchain.prompts import PromptTemplate\n",
    "\n",
    "# Build prompt\n",
    "template = \"\"\"Use the following pieces of context to answer the question at the end. If you don't know the answer, just say that you don't know, don't try to make up an answer. Use three sentences maximum. Keep the answer as concise as possible. Always say \"thanks for asking!\" at the end of the answer. \n",
    "{context}\n",
    "Question: {question}\n",
    "Helpful Answer:\"\"\"\n",
    "QA_CHAIN_PROMPT = PromptTemplate.from_template(template)"
   ]
  },
  {
   "cell_type": "code",
   "execution_count": 37,
   "metadata": {},
   "outputs": [],
   "source": [
    "# Run chain\n",
    "qa_chain = RetrievalQA.from_chain_type(\n",
    "    llm,\n",
    "    retriever=vectordb.as_retriever(),\n",
    "    return_source_documents=True,\n",
    "    chain_type_kwargs={\"prompt\": QA_CHAIN_PROMPT}\n",
    ")"
   ]
  },
  {
   "cell_type": "code",
   "execution_count": 38,
   "metadata": {},
   "outputs": [],
   "source": [
    "question = \"What happened in lockdown?\"\n"
   ]
  },
  {
   "cell_type": "code",
   "execution_count": 39,
   "metadata": {},
   "outputs": [],
   "source": [
    "result = qa_chain({\"query\": question})"
   ]
  },
  {
   "cell_type": "code",
   "execution_count": 43,
   "metadata": {},
   "outputs": [
    {
     "data": {
      "text/plain": [
       "'During the COVID lockdown, a headline went viral stating that nearly half of men said they did most of the homeschooling, while only 3% of women agreed. This discrepancy was used as an example of egocentric bias. Thanks for asking!'"
      ]
     },
     "execution_count": 43,
     "metadata": {},
     "output_type": "execute_result"
    }
   ],
   "source": [
    "result['result']"
   ]
  },
  {
   "cell_type": "code",
   "execution_count": 44,
   "metadata": {},
   "outputs": [
    {
     "name": "stderr",
     "output_type": "stream",
     "text": [
      "/var/folders/bp/s_kwl8x13sb449hbbjskcnwc0000gn/T/ipykernel_7321/1956280058.py:2: LangChainDeprecationWarning: Please see the migration guide at: https://python.langchain.com/docs/versions/migrating_memory/\n",
      "  memory = ConversationBufferMemory(\n"
     ]
    }
   ],
   "source": [
    "from langchain.memory import ConversationBufferMemory\n",
    "memory = ConversationBufferMemory(\n",
    "    memory_key=\"chat_history\",\n",
    "    return_messages=True\n",
    ")"
   ]
  },
  {
   "cell_type": "code",
   "execution_count": 45,
   "metadata": {},
   "outputs": [],
   "source": [
    "from langchain.chains import ConversationalRetrievalChain\n",
    "retriever=vectordb.as_retriever()\n",
    "qa = ConversationalRetrievalChain.from_llm(\n",
    "    llm,\n",
    "    retriever=retriever,\n",
    "    memory=memory\n",
    ")"
   ]
  },
  {
   "cell_type": "code",
   "execution_count": 46,
   "metadata": {},
   "outputs": [],
   "source": [
    "question = \"What is happening in this video?\"\n",
    "result = qa({\"question\": question})"
   ]
  },
  {
   "cell_type": "code",
   "execution_count": 47,
   "metadata": {},
   "outputs": [
    {
     "data": {
      "text/plain": [
       "\"The video discusses egocentric bias, which is the tendency for people to overestimate their own contributions and underestimate others. It explores how this bias affects our perception of luck and success, using examples like homeschooling during COVID, hockey players' birthdates, and the selection of NASA astronauts. The video also touches on how downplaying the role of chance can paradoxically improve one's probability of success and how successful people may be less inclined to give back due to a distorted view of reality. Finally, it suggests that acknowledging fortunate circumstances makes us more likable and happier.\""
      ]
     },
     "execution_count": 47,
     "metadata": {},
     "output_type": "execute_result"
    }
   ],
   "source": [
    "result['answer']\n"
   ]
  },
  {
   "cell_type": "code",
   "execution_count": 48,
   "metadata": {},
   "outputs": [],
   "source": [
    "question = \"Is success luck or hard work?\"\n",
    "result = qa({\"question\": question})"
   ]
  },
  {
   "cell_type": "code",
   "execution_count": 49,
   "metadata": {},
   "outputs": [
    {
     "data": {
      "text/plain": [
       "'The truth is you need both skill/hard work and luck to be successful.'"
      ]
     },
     "execution_count": 49,
     "metadata": {},
     "output_type": "execute_result"
    }
   ],
   "source": [
    "result['answer']"
   ]
  },
  {
   "cell_type": "code",
   "execution_count": 69,
   "metadata": {},
   "outputs": [
    {
     "data": {
      "text/plain": [
       "['3ec12c82-140b-4798-b103-24387e34d1e0',\n",
       " '8d51180e-088e-4516-ba1f-eaee5446a75f']"
      ]
     },
     "execution_count": 69,
     "metadata": {},
     "output_type": "execute_result"
    }
   ],
   "source": [
    "vectordb.add_documents(pages)"
   ]
  },
  {
   "cell_type": "code",
   "execution_count": 71,
   "metadata": {},
   "outputs": [
    {
     "data": {
      "text/plain": [
       "\"The statement of purpose is about the applicant's journey and passion for data science, particularly its potential to transform healthcare from a reactive to a proactive approach. It highlights their experience in using AI for early diagnosis, their work in healthcare consulting, and their desire to further explore the integration of AI systems with healthcare for clinical diagnosis through CUHK's Master's program in Advanced Studies in Statistics and Data Science.\""
      ]
     },
     "execution_count": 71,
     "metadata": {},
     "output_type": "execute_result"
    }
   ],
   "source": [
    "question = \"What is the SOP about?\"\n",
    "result = qa({\"question\": question})\n",
    "result['answer']"
   ]
  }
 ],
 "metadata": {
  "kernelspec": {
   "display_name": "Python 3",
   "language": "python",
   "name": "python3"
  },
  "language_info": {
   "codemirror_mode": {
    "name": "ipython",
    "version": 3
   },
   "file_extension": ".py",
   "mimetype": "text/x-python",
   "name": "python",
   "nbconvert_exporter": "python",
   "pygments_lexer": "ipython3",
   "version": "3.11.11"
  }
 },
 "nbformat": 4,
 "nbformat_minor": 2
}
